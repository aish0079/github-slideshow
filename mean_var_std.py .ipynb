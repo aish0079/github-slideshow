{
 "cells": [
  {
   "cell_type": "code",
   "execution_count": null,
   "id": "e1d048ed",
   "metadata": {},
   "outputs": [],
   "source": [
    "import numpy as np"
   ]
  },
  {
   "cell_type": "code",
   "execution_count": null,
   "id": "f1041baa",
   "metadata": {},
   "outputs": [],
   "source": []
  },
  {
   "cell_type": "code",
   "execution_count": 2,
   "id": "938f5c6f",
   "metadata": {},
   "outputs": [],
   "source": [
    "def calculate():\n",
    "    a= int (input('Enter the entries for 3x3 matrix as an int list'))\n",
    "    arr = np.array(a)\n",
    "    arr_f = np.reshape(3,3)\n",
    "    mean_axis0= np.mean(arr_f, axis=0)\n",
    "    mean_axis1= np.mean(arr_f, axis=1)\n",
    "    mean_flat = np.mean(arr_f)\n",
    "    std_div_axis0 = np.std(arr_f, axis=0)\n",
    "    std_div_axis1 = np.std(arr_f, axis=1)\n",
    "    std_div_flat = np.std(arr_f)\n",
    "    var_axis0 = np.var(arr_f, axis=0)\n",
    "    var_axis1 = np.var(arr_f, axis=1)\n",
    "    var_flat = np.var(arr_f)\n",
    "    max_axis0 = np.amax(arr_f,axis = 0)\n",
    "    max_axis1 = np.amax(arr_f,axis = 1)\n",
    "    max_flat = np.amax(arr_f)\n",
    "    min_axis0 = np.amin(arr_f,0)\n",
    "    min_axis1 = np.amin(arr_f,1)\n",
    "    min_flat = np.amin(arr_f)\n",
    "    sum_axis0 = np.sum(arr_f, axis=0)\n",
    "    sum_axis1 = np.sum(arr_f, axis=1)\n",
    "    sum_flat = np.sum(arr_f)\n",
    "    matrix_dict = {}\n",
    "    matrix_dict.update({'mean':  [mean_axis0,mean_axis1,mean_flat],\n",
    "                        'variance': [var_axis0, var_axis1, var_flat],\n",
    "                        'standard deviation': [std_div_axis0, std_div_axis1, std_div_flat],\n",
    "                        'max': [max_axis0, max_axis1, max_flat],\n",
    "                        'min': [min_axis0, min_axis1, min_flat],\n",
    "                        'max': [sum_axis0, sum_axis1, sum_flat]                      \n",
    "                       })\n",
    "    print (matrix_dict)\n",
    "if __name__='__main__'"
   ]
  },
  {
   "cell_type": "code",
   "execution_count": null,
   "id": "09e8641e",
   "metadata": {},
   "outputs": [],
   "source": []
  },
  {
   "cell_type": "code",
   "execution_count": null,
   "id": "4c7c6cd9",
   "metadata": {},
   "outputs": [],
   "source": []
  }
 ],
 "metadata": {
  "kernelspec": {
   "display_name": "Python 3 (ipykernel)",
   "language": "python",
   "name": "python3"
  },
  "language_info": {
   "codemirror_mode": {
    "name": "ipython",
    "version": 3
   },
   "file_extension": ".py",
   "mimetype": "text/x-python",
   "name": "python",
   "nbconvert_exporter": "python",
   "pygments_lexer": "ipython3",
   "version": "3.9.7"
  }
 },
 "nbformat": 4,
 "nbformat_minor": 5
}
